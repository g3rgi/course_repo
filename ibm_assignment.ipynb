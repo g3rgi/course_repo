{
 "cells": [
  {
   "cell_type": "markdown",
   "metadata": {},
   "source": [
    "<center>\n",
    "    <img src=\"https://s3-api.us-geo.objectstorage.softlayer.net/cf-courses-data/CognitiveClass/Logos/organization_logo/organization_logo.png\" width=\"300\" alt=\"cognitiveclass.ai logo\"  />\n",
    "</center>\n"
   ]
  },
  {
   "cell_type": "markdown",
   "metadata": {},
   "source": [
    "#### Add your code below following the instructions given in the course\n"
   ]
  },
  {
   "cell_type": "markdown",
   "metadata": {},
   "source": [
    "<h1>My Jupiter Notebook in IBM Watson Studio</h1>"
   ]
  },
  {
   "cell_type": "markdown",
   "metadata": {},
   "source": [
    "**Gergely Ferenc Sütő**\n",
    "<br>\n",
    "I am working as a Remote Sensing Analyst."
   ]
  },
  {
   "cell_type": "markdown",
   "metadata": {},
   "source": [
    "*I am interested in data science because as a geographer, i using a lot of data in maps, and it is a valuable knowledge for me.*"
   ]
  },
  {
   "cell_type": "markdown",
   "metadata": {},
   "source": [
    "<h3>My code is making every number from 1 to 5 (6 is not included), 5 times better, with a while loop. It is fantastic!</h3>"
   ]
  },
  {
   "cell_type": "code",
   "execution_count": 1,
   "metadata": {
    "tags": []
   },
   "outputs": [
    {
     "name": "stdout",
     "output_type": "stream",
     "text": [
      "5\n",
      "10\n",
      "15\n",
      "20\n",
      "25\n"
     ]
    }
   ],
   "source": [
    "i=1\n",
    "while i < 6:\n",
    "    a=i*5\n",
    "    print(a)\n",
    "    i+=1"
   ]
  },
  {
   "cell_type": "markdown",
   "metadata": {},
   "source": [
    "<img src=\"https://image.shutterstock.com/image-photo/funny-large-longhair-gray-kitten-600w-1842198919.jpg\" alt=\"Cat picture\">\n",
    "<p>A beautiful cat photo, without copyright issues.</p>\n",
    "<a href=\"https://en.wikipedia.org/wiki/Cat\">This is the wikipedia page about cats</a>\n",
    "\n",
    "<h5>Why cats are important?</h5>\n",
    "<ol>\n",
    "    <li>There is a probability that they secretly rule the world</li>\n",
    "    <li>Save us from mice (they want to eat all of the food, not just the 3. point)</li>\n",
    "    <li>Save our health, because they eat all of the leftover lasagne</li>\n",
    "    <li>Good and cute service animals for everyone</li>\n",
    "</ol>"
   ]
  },
  {
   "cell_type": "code",
   "execution_count": null,
   "metadata": {},
   "outputs": [],
   "source": []
  }
 ],
 "metadata": {
  "kernelspec": {
   "display_name": "Python",
   "language": "python",
   "name": "conda-env-python-py"
  },
  "language_info": {
   "codemirror_mode": {
    "name": "ipython",
    "version": 3
   },
   "file_extension": ".py",
   "mimetype": "text/x-python",
   "name": "python",
   "nbconvert_exporter": "python",
   "pygments_lexer": "ipython3",
   "version": "3.7.12"
  }
 },
 "nbformat": 4,
 "nbformat_minor": 4
}
